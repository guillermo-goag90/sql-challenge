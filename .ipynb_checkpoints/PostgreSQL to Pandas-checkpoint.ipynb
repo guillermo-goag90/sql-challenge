{
 "cells": [
  {
   "cell_type": "code",
   "execution_count": null,
   "metadata": {},
   "outputs": [],
   "source": [
    "import pandas as pd\n",
    "import matplotlib.pyplot as plt\n",
    "import psycopg2\n",
    "import math\n",
    "from params import user, password"
   ]
  },
  {
   "cell_type": "code",
   "execution_count": null,
   "metadata": {},
   "outputs": [],
   "source": [
    "con = psycopg2.connect(dbname=\"sql-challenge\", user=user, password=password)\n",
    "cur = con.cursor()"
   ]
  },
  {
   "cell_type": "markdown",
   "metadata": {},
   "source": [
    "# Create a histogram to visualize the most common salary ranges for employees"
   ]
  },
  {
   "cell_type": "code",
   "execution_count": null,
   "metadata": {},
   "outputs": [],
   "source": [
    "# Execute query\n",
    "cur.execute(\"select * from salaries\")\n",
    "salaries = cur.fetchall()\n",
    "\n",
    "# Limit responses using loop (rather than LIMIT)\n",
    "head = 10\n",
    "for index, salary in enumerate(salaries):\n",
    "    print(f'{salary[1]}')\n",
    "    \n",
    "    if index == head:\n",
    "        break"
   ]
  },
  {
   "cell_type": "code",
   "execution_count": null,
   "metadata": {},
   "outputs": [],
   "source": [
    "# Create a DataFrame from query results\n",
    "cols_1 = ['emp_no', 'salary']\n",
    "salaries_df = pd.DataFrame(data= salaries, columns=cols_1)\n",
    "salaries_df"
   ]
  },
  {
   "cell_type": "code",
   "execution_count": null,
   "metadata": {},
   "outputs": [],
   "source": [
    "# Create a histogram (10 bins) of employee salary distribution    \n",
    "plt.hist(salaries_df['salary'], bins = 10, histtype='bar', rwidth=0.8)\n",
    "plt.title('Histogram of Employees Salaries')\n",
    "plt.xlabel('Salary')\n",
    "plt.ylabel('Frequency')\n",
    "plt.show()"
   ]
  },
  {
   "cell_type": "markdown",
   "metadata": {},
   "source": [
    "# Create a bar chart of average salary by title."
   ]
  },
  {
   "cell_type": "code",
   "execution_count": null,
   "metadata": {},
   "outputs": [],
   "source": [
    "# Execute query\n",
    "cur.execute(\"select * from employees\")\n",
    "employees = cur.fetchall()"
   ]
  },
  {
   "cell_type": "code",
   "execution_count": null,
   "metadata": {},
   "outputs": [],
   "source": [
    "# Create a DataFrame from query results\n",
    "cols_2 = ['emp_no', 'emp_title_id', 'birth_date', 'first_name', 'last_name', 'sex', 'hire_date']\n",
    "employees_df = pd.DataFrame(data= employees, columns=cols_2)\n",
    "employees_df"
   ]
  },
  {
   "cell_type": "code",
   "execution_count": null,
   "metadata": {},
   "outputs": [],
   "source": [
    "merge_df = pd.merge(employees_df, salaries_df, on=\"emp_no\")\n",
    "merge_df.head()"
   ]
  },
  {
   "cell_type": "code",
   "execution_count": null,
   "metadata": {},
   "outputs": [],
   "source": [
    "cur.execute(\"select * from titles\")\n",
    "titles = cur.fetchall()"
   ]
  },
  {
   "cell_type": "code",
   "execution_count": null,
   "metadata": {},
   "outputs": [],
   "source": [
    "cols_3 = ['emp_title_id', 'title']\n",
    "titles_df = pd.DataFrame(data= titles, columns=cols_3)\n",
    "titles_series = titles_df['title']\n",
    "titles_df"
   ]
  },
  {
   "cell_type": "code",
   "execution_count": null,
   "metadata": {},
   "outputs": [],
   "source": [
    "# Group by title and retrieve titles\n",
    "avg_salaries = merge_df.groupby(['emp_title_id'])['salary'].mean().to_frame()\n",
    "avg_salaries = pd.merge(avg_salaries, titles_df, on=\"emp_title_id\")\n",
    "avg_salaries"
   ]
  },
  {
   "cell_type": "code",
   "execution_count": null,
   "metadata": {},
   "outputs": [],
   "source": [
    "# Create bar chart\n",
    "avg_salaries.plot(kind=\"bar\")\n",
    "\n",
    "plt.xticks(avg_salaries.index,avg_salaries[\"title\"].values)\n",
    "plt.ylim(30000, 60000)\n",
    "\n",
    "low = min(avg_salaries['salary'])\n",
    "high = max(avg_salaries['salary'])\n",
    "plt.ylim([math.ceil(low-0.5*(high-low)), math.ceil(high+0.5*(high-low))])"
   ]
  },
  {
   "cell_type": "code",
   "execution_count": null,
   "metadata": {},
   "outputs": [],
   "source": [
    "con.close()"
   ]
  },
  {
   "cell_type": "code",
   "execution_count": null,
   "metadata": {},
   "outputs": [],
   "source": []
  }
 ],
 "metadata": {
  "kernelspec": {
   "display_name": "Python 3.6.10 64-bit ('PythonData': conda)",
   "language": "python",
   "name": "python361064bitpythondataconda80a20061597447b9b6ab1bfe914af48d"
  },
  "language_info": {
   "codemirror_mode": {
    "name": "ipython",
    "version": 3
   },
   "file_extension": ".py",
   "mimetype": "text/x-python",
   "name": "python",
   "nbconvert_exporter": "python",
   "pygments_lexer": "ipython3",
   "version": "3.6.10"
  }
 },
 "nbformat": 4,
 "nbformat_minor": 4
}
